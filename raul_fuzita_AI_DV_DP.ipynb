{
  "nbformat": 4,
  "nbformat_minor": 0,
  "metadata": {
    "colab": {
      "name": "raul_fuzita_AI_DV_DP.ipynb",
      "provenance": [],
      "collapsed_sections": [],
      "authorship_tag": "ABX9TyN1iJqBb+ZcgsP11ijkHM+L",
      "include_colab_link": true
    },
    "kernelspec": {
      "name": "ir",
      "display_name": "R"
    },
    "language_info": {
      "name": "R"
    }
  },
  "cells": [
    {
      "cell_type": "markdown",
      "metadata": {
        "id": "view-in-github",
        "colab_type": "text"
      },
      "source": [
        "<a href=\"https://colab.research.google.com/github/raulFuzita/cct_data_exploration_and_preparation/blob/CA2/raul_fuzita_AI_DV_DP.ipynb\" target=\"_parent\"><img src=\"https://colab.research.google.com/assets/colab-badge.svg\" alt=\"Open In Colab\"/></a>"
      ]
    },
    {
      "cell_type": "markdown",
      "source": [
        "# BSc (Hons) in Computing in IT (4th Yr)"
      ],
      "metadata": {
        "id": "uohBn3qIzkXQ"
      }
    },
    {
      "cell_type": "markdown",
      "source": [
        "## Data Exploration & Preparation - CA"
      ],
      "metadata": {
        "id": "SdHWtRTBznqJ"
      }
    },
    {
      "cell_type": "markdown",
      "source": [
        "Lecturer: Dr. Muhammad Iqbal\n",
        "\n",
        "Student Name: Raul Macedo Fuzita\n",
        "\n",
        "Student ID: 2018337"
      ],
      "metadata": {
        "id": "GWRkWZx_zrhH"
      }
    },
    {
      "cell_type": "markdown",
      "source": [
        "## Importing the data set <font color='red'>(Important)</font>"
      ],
      "metadata": {
        "id": "WFkwGFB01iIi"
      }
    },
    {
      "cell_type": "code",
      "execution_count": 6,
      "metadata": {
        "id": "pnEHP32BQauK",
        "colab": {
          "base_uri": "https://localhost:8080/",
          "height": 286
        },
        "cellView": "form",
        "outputId": "6e728f97-280e-4f68-89b7-cba655051b30"
      },
      "outputs": [
        {
          "output_type": "display_data",
          "data": {
            "text/plain": [
              "  X Y month day FFMC DMC  DC    ISI  temp RH wind rain area\n",
              "1 7 5 mar   fri 86.2 26.2  94.3  5.1  8.2 51 6.7  0.0  0   \n",
              "2 7 4 oct   tue 90.6 35.4 669.1  6.7 18.0 33 0.9  0.0  0   \n",
              "3 7 4 oct   sat 90.6 43.7 686.9  6.7 14.6 33 1.3  0.0  0   \n",
              "4 8 6 mar   fri 91.7 33.3  77.5  9.0  8.3 97 4.0  0.2  0   \n",
              "5 8 6 mar   sun 89.3 51.3 102.2  9.6 11.4 99 1.8  0.0  0   \n",
              "6 8 6 aug   sun 92.3 85.3 488.0 14.7 22.2 29 5.4  0.0  0   "
            ],
            "text/latex": "A data.frame: 6 × 13\n\\begin{tabular}{r|lllllllllllll}\n  & X & Y & month & day & FFMC & DMC & DC & ISI & temp & RH & wind & rain & area\\\\\n  & <int> & <int> & <chr> & <chr> & <dbl> & <dbl> & <dbl> & <dbl> & <dbl> & <int> & <dbl> & <dbl> & <dbl>\\\\\n\\hline\n\t1 & 7 & 5 & mar & fri & 86.2 & 26.2 &  94.3 &  5.1 &  8.2 & 51 & 6.7 & 0.0 & 0\\\\\n\t2 & 7 & 4 & oct & tue & 90.6 & 35.4 & 669.1 &  6.7 & 18.0 & 33 & 0.9 & 0.0 & 0\\\\\n\t3 & 7 & 4 & oct & sat & 90.6 & 43.7 & 686.9 &  6.7 & 14.6 & 33 & 1.3 & 0.0 & 0\\\\\n\t4 & 8 & 6 & mar & fri & 91.7 & 33.3 &  77.5 &  9.0 &  8.3 & 97 & 4.0 & 0.2 & 0\\\\\n\t5 & 8 & 6 & mar & sun & 89.3 & 51.3 & 102.2 &  9.6 & 11.4 & 99 & 1.8 & 0.0 & 0\\\\\n\t6 & 8 & 6 & aug & sun & 92.3 & 85.3 & 488.0 & 14.7 & 22.2 & 29 & 5.4 & 0.0 & 0\\\\\n\\end{tabular}\n",
            "text/markdown": "\nA data.frame: 6 × 13\n\n| <!--/--> | X &lt;int&gt; | Y &lt;int&gt; | month &lt;chr&gt; | day &lt;chr&gt; | FFMC &lt;dbl&gt; | DMC &lt;dbl&gt; | DC &lt;dbl&gt; | ISI &lt;dbl&gt; | temp &lt;dbl&gt; | RH &lt;int&gt; | wind &lt;dbl&gt; | rain &lt;dbl&gt; | area &lt;dbl&gt; |\n|---|---|---|---|---|---|---|---|---|---|---|---|---|---|\n| 1 | 7 | 5 | mar | fri | 86.2 | 26.2 |  94.3 |  5.1 |  8.2 | 51 | 6.7 | 0.0 | 0 |\n| 2 | 7 | 4 | oct | tue | 90.6 | 35.4 | 669.1 |  6.7 | 18.0 | 33 | 0.9 | 0.0 | 0 |\n| 3 | 7 | 4 | oct | sat | 90.6 | 43.7 | 686.9 |  6.7 | 14.6 | 33 | 1.3 | 0.0 | 0 |\n| 4 | 8 | 6 | mar | fri | 91.7 | 33.3 |  77.5 |  9.0 |  8.3 | 97 | 4.0 | 0.2 | 0 |\n| 5 | 8 | 6 | mar | sun | 89.3 | 51.3 | 102.2 |  9.6 | 11.4 | 99 | 1.8 | 0.0 | 0 |\n| 6 | 8 | 6 | aug | sun | 92.3 | 85.3 | 488.0 | 14.7 | 22.2 | 29 | 5.4 | 0.0 | 0 |\n\n",
            "text/html": [
              "<table class=\"dataframe\">\n",
              "<caption>A data.frame: 6 × 13</caption>\n",
              "<thead>\n",
              "\t<tr><th></th><th scope=col>X</th><th scope=col>Y</th><th scope=col>month</th><th scope=col>day</th><th scope=col>FFMC</th><th scope=col>DMC</th><th scope=col>DC</th><th scope=col>ISI</th><th scope=col>temp</th><th scope=col>RH</th><th scope=col>wind</th><th scope=col>rain</th><th scope=col>area</th></tr>\n",
              "\t<tr><th></th><th scope=col>&lt;int&gt;</th><th scope=col>&lt;int&gt;</th><th scope=col>&lt;chr&gt;</th><th scope=col>&lt;chr&gt;</th><th scope=col>&lt;dbl&gt;</th><th scope=col>&lt;dbl&gt;</th><th scope=col>&lt;dbl&gt;</th><th scope=col>&lt;dbl&gt;</th><th scope=col>&lt;dbl&gt;</th><th scope=col>&lt;int&gt;</th><th scope=col>&lt;dbl&gt;</th><th scope=col>&lt;dbl&gt;</th><th scope=col>&lt;dbl&gt;</th></tr>\n",
              "</thead>\n",
              "<tbody>\n",
              "\t<tr><th scope=row>1</th><td>7</td><td>5</td><td>mar</td><td>fri</td><td>86.2</td><td>26.2</td><td> 94.3</td><td> 5.1</td><td> 8.2</td><td>51</td><td>6.7</td><td>0.0</td><td>0</td></tr>\n",
              "\t<tr><th scope=row>2</th><td>7</td><td>4</td><td>oct</td><td>tue</td><td>90.6</td><td>35.4</td><td>669.1</td><td> 6.7</td><td>18.0</td><td>33</td><td>0.9</td><td>0.0</td><td>0</td></tr>\n",
              "\t<tr><th scope=row>3</th><td>7</td><td>4</td><td>oct</td><td>sat</td><td>90.6</td><td>43.7</td><td>686.9</td><td> 6.7</td><td>14.6</td><td>33</td><td>1.3</td><td>0.0</td><td>0</td></tr>\n",
              "\t<tr><th scope=row>4</th><td>8</td><td>6</td><td>mar</td><td>fri</td><td>91.7</td><td>33.3</td><td> 77.5</td><td> 9.0</td><td> 8.3</td><td>97</td><td>4.0</td><td>0.2</td><td>0</td></tr>\n",
              "\t<tr><th scope=row>5</th><td>8</td><td>6</td><td>mar</td><td>sun</td><td>89.3</td><td>51.3</td><td>102.2</td><td> 9.6</td><td>11.4</td><td>99</td><td>1.8</td><td>0.0</td><td>0</td></tr>\n",
              "\t<tr><th scope=row>6</th><td>8</td><td>6</td><td>aug</td><td>sun</td><td>92.3</td><td>85.3</td><td>488.0</td><td>14.7</td><td>22.2</td><td>29</td><td>5.4</td><td>0.0</td><td>0</td></tr>\n",
              "</tbody>\n",
              "</table>\n"
            ]
          },
          "metadata": {}
        }
      ],
      "source": [
        "#@markdown 👈 Please, run this cell to import the data set from a source available at [https://archive.ics.uci.edu/ml/machine-learning-databases/forest-fires/](\"https://archive.ics.uci.edu/ml/machine-learning-databases/forest-fires/)\n",
        "df <- read.csv(\"https://archive.ics.uci.edu/ml/machine-learning-databases/forest-fires/forestfires.csv\")\n",
        "\n",
        "#@markdown If the data set is imported currectly you should see the five first rows.\n",
        "head(df)"
      ]
    },
    {
      "cell_type": "markdown",
      "source": [
        "## Importing All the Necessary Packages for This project <font color=\"red\">(Important)</font>\n",
        "\n",
        "1.   List item\n",
        "2.   List item\n",
        "\n"
      ],
      "metadata": {
        "id": "IUcDvyzO22EF"
      }
    },
    {
      "cell_type": "code",
      "source": [
        "#@markdown 👈 Please, run this cell to import the following libraries: `gplots, reshape2, dplyr, ggplot2`.\n",
        "\n",
        "#@markdown If one of these packages are not imported the you experience errors and fails. You must install these packages by running thiscode block.\n",
        "\n",
        "install.packages(\"gplots\")\n",
        "library(gplots)\n",
        "\n",
        "install.packages(\"reshape2\")\n",
        "library(reshape2)\n",
        "\n",
        "library(dplyr)\n",
        "library(ggplot2)\n",
        "library(tidyverse)"
      ],
      "metadata": {
        "colab": {
          "base_uri": "https://localhost:8080/"
        },
        "cellView": "form",
        "id": "LsikZHfGh1kT",
        "outputId": "2c7358f7-d886-440b-ef35-ba8fdd11bb00"
      },
      "execution_count": 7,
      "outputs": [
        {
          "output_type": "stream",
          "name": "stderr",
          "text": [
            "Installing package into ‘/usr/local/lib/R/site-library’\n",
            "(as ‘lib’ is unspecified)\n",
            "\n",
            "also installing the dependencies ‘bitops’, ‘gtools’, ‘caTools’\n",
            "\n",
            "\n",
            "\n",
            "Attaching package: ‘gplots’\n",
            "\n",
            "\n",
            "The following object is masked from ‘package:stats’:\n",
            "\n",
            "    lowess\n",
            "\n",
            "\n",
            "Installing package into ‘/usr/local/lib/R/site-library’\n",
            "(as ‘lib’ is unspecified)\n",
            "\n",
            "also installing the dependency ‘plyr’\n",
            "\n",
            "\n",
            "\n",
            "Attaching package: ‘dplyr’\n",
            "\n",
            "\n",
            "The following objects are masked from ‘package:stats’:\n",
            "\n",
            "    filter, lag\n",
            "\n",
            "\n",
            "The following objects are masked from ‘package:base’:\n",
            "\n",
            "    intersect, setdiff, setequal, union\n",
            "\n",
            "\n",
            "Warning message in system(\"timedatectl\", intern = TRUE):\n",
            "“running command 'timedatectl' had status 1”\n",
            "── \u001b[1mAttaching packages\u001b[22m ─────────────────────────────────────── tidyverse 1.3.1 ──\n",
            "\n",
            "\u001b[32m✔\u001b[39m \u001b[34mtibble \u001b[39m 3.1.6     \u001b[32m✔\u001b[39m \u001b[34mpurrr  \u001b[39m 0.3.4\n",
            "\u001b[32m✔\u001b[39m \u001b[34mtidyr  \u001b[39m 1.1.4     \u001b[32m✔\u001b[39m \u001b[34mstringr\u001b[39m 1.4.0\n",
            "\u001b[32m✔\u001b[39m \u001b[34mreadr  \u001b[39m 2.1.1     \u001b[32m✔\u001b[39m \u001b[34mforcats\u001b[39m 0.5.1\n",
            "\n",
            "── \u001b[1mConflicts\u001b[22m ────────────────────────────────────────── tidyverse_conflicts() ──\n",
            "\u001b[31m✖\u001b[39m \u001b[34mdplyr\u001b[39m::\u001b[32mfilter()\u001b[39m masks \u001b[34mstats\u001b[39m::filter()\n",
            "\u001b[31m✖\u001b[39m \u001b[34mdplyr\u001b[39m::\u001b[32mlag()\u001b[39m    masks \u001b[34mstats\u001b[39m::lag()\n",
            "\n"
          ]
        }
      ]
    },
    {
      "cell_type": "code",
      "source": [
        "#@markdown 👈 Please, run this cell to create custome function that will be used later on. I cannot stress enough the importance of running this cell. Make sure you have run this code block. <font color=\"red\">(Important)</font>\n",
        "\n",
        "# https://stackoverflow.com/questions/44050028/min-max-scaling-normalization-in-r-for-train-and-test-data\n",
        "mmnorm <- function(x, na.rm = TRUE) {\n",
        "    ((x - min(x)) / (max(x) - min(x)))\n",
        "}\n",
        "\n",
        "zscore <- function(x, na.rm = TRUE){\n",
        "  (x - mean(x))/sd(x)\n",
        "}\n",
        "\n",
        "robust_scalar <- function(x, na.rm = TRUE){\n",
        "  (x - median(x)) /(quantile( x,probs =.75) - quantile( x,probs = .25))\n",
        "}"
      ],
      "metadata": {
        "cellView": "form",
        "id": "TnrOjFDriuCw"
      },
      "execution_count": 8,
      "outputs": []
    },
    {
      "cell_type": "markdown",
      "source": [
        "#### Mmnorm() arguments:\n",
        "\n",
        "```\n",
        "mmnorm(x, na.rm = TRUE)\n",
        "```\n",
        "\n",
        "\n",
        "#### Zscore() arguments:\n",
        "\n",
        "```\n",
        "zscore(x, na.rm = TRUE)\n",
        "```\n",
        "\n",
        "\n",
        "#### Robust_scalar() arguments:\n",
        "\n",
        "```\n",
        "robust_scalar(x, na.rm = TRUE)\n",
        "```"
      ],
      "metadata": {
        "id": "kT-xxiPg2sDu"
      }
    },
    {
      "cell_type": "markdown",
      "source": [
        "### Discuss and describe the purpose and need for data exploration and mining within data analytics projects. Describe the possible consequences of relying on completely automatic data analysis tools rather than using manual statistical tools. Use illustrations to justify your answer."
      ],
      "metadata": {
        "id": "nzoBHJV_juBP"
      }
    },
    {
      "cell_type": "markdown",
      "source": [
        "<p align=\"justify\">\n",
        "&emsp;&emsp;Paulo Cortez and Aníbal Morais published research in regard to the dataset in question. The paper entitled <i>A Data Mining Approach to Predict Forest Fires using Meteorological Data</i> suggests that the research and model could be used to develop an automatic solution.\n",
        "</p>\n",
        "\n",
        "<blockquote cite=\"https://repositorium.sdum.uminho.pt/handle/1822/8039\">\n",
        "<q>\n",
        "Since traditional human surveillance is expensive and affected by subjective factors, there has been an emphasis to develop automatic solutions. These can be grouped into three major categories [1]: satellite-based, infrared/smoke scanners and local sensors (e.g. meteorological). Satellites have acquisition costs, localization delays and the resolution is not adequate for all cases. Moreover, scanners have a high equipment and maintenance costs. Weather conditions, such as temperature and air humidity, are known to affect fire occurrence [15]. Since automatic meteorological stations are often available (e.g. Portugal has 162 official stations), such data can be collected in real-time, with low costs (<a href=\"https://repositorium.sdum.uminho.pt/handle/1822/8039\">Paulo Cortez, 2007</a>).\n",
        "</q>\n",
        "</blockquote>\n",
        "\n",
        "<p align=\"justify\">\n",
        "&emsp;&emsp;In the research conclusion section, they stated that the effort to build an automatic system that could assist Fire Management System (FMS) depends on three major trends: satellite data, infrared/smoke scanners, and local sensors. They proposed a Data Mining (DM) approach that uses meteorological data, as detected by local sensors in weather stations. Although they proposed a DM approach they once again suggest the techniques applied open room for the development of automatic tools.\n",
        "</P>\n",
        "\n",
        "<blockquote cite=\"https://repositorium.sdum.uminho.pt/handle/1822/8039\">\n",
        "<q>\n",
        "This study was based on an off-line learning, since the DM techniques were applied\n",
        "after the data was collected. However, this work opens room for the development of\n",
        "automatic tools for fire management support (<a href=\"https://repositorium.sdum.uminho.pt/handle/1822/8039\">Paulo Cortez, 2007</a>).\n",
        "</q>\n",
        "</blockquote>\n",
        "\n",
        "<p align=\"justify\">\n",
        "&emsp;&emsp;Paulo Cortez and Aníbal Morais acknowledge the DM approach was based on Support Vector Machines (SVM), therefore, it is capable of predicting small fires; however, there is a drawback with this approach which cannot predict for large fires. They added that in order to improve the model it is necessary to add additional information, such as type of vegetation and firefighting intervention.\n",
        "</p>\n",
        "\n",
        "<blockquote cite=\"https://repositorium.sdum.uminho.pt/handle/1822/8039\">\n",
        "<q>\n",
        "As argued in [18], predicting the size of forest fires is\n",
        "a challenging task. To improve it, we believe that additional information (not available\n",
        "in this study) is required, such as the type of vegetation and firefighting intervention\n",
        "(e.g. time elapsed and firefighting strategy) (<a href=\"https://repositorium.sdum.uminho.pt/handle/1822/8039\">Paulo Cortez, 2007</a>).\n",
        "</q>\n",
        "</blockquote>\n"
      ],
      "metadata": {
        "id": "TsJZIApi3A0r"
      }
    },
    {
      "cell_type": "markdown",
      "source": [
        "<p align=\"justify\">\n",
        "&emsp;&emsp;Fire Weather Index (FWI) system depends on weather readings, such as fuel mosisture codes, fire behavior indices, and fuel types. A FWI process flow Chart is available in the <i>National Wildfire Coordinating Group</i> website. See below the chart (<a href=\"https://www.nwcg.gov/publications/pms437/cffdrs/fire-weather-index-system\">National Wildfire Coordinating Group, 2021</a>).\n",
        "</p>"
      ],
      "metadata": {
        "id": "NyK-XX4INQr8"
      }
    },
    {
      "cell_type": "markdown",
      "source": [
        "<img src=\"https://www.nwcg.gov/sites/default/files/publications/images/437-cffdrs-overview-fwi-flowchart.png\" alt=\"https://www.nwcg.gov/publications/pms437/cffdrs/fire-weather-index-system\" width=\"500\">\n",
        "\n",
        "<labe>figure 1</lable>"
      ],
      "metadata": {
        "id": "nkQgaIRGMJyQ"
      }
    },
    {
      "cell_type": "markdown",
      "source": [
        "<p align=\"justify\">\n",
        "&emsp;&emsp;Paulo Cortez and Aníbal Morais research was published in 2007. In nowadays, we have more sophisticated AI models, technologies, and algorithms. \n",
        "\n",
        "&emsp;&emsp;FWI system consists of variables, steps and a graphical representation of the flowchart. It should not be too hard with recent technologies to automate the same process to predict the spread of fire and the damaged area.\n",
        "\n",
        "&emsp;&emsp;I want to point out I need to investigate it for further information. My opinion will be based on what I have learned in the Artificial Intelligence subject and my researches as a student.\n",
        "\n",
        "&emsp;&emsp;Professor David Kopec published in his book, Classic Computer Science Problems in Python, an algorithm that uses Constraint Satisfaction Problem (CSP) to give weight to words and calculate scenarios with graphs (<a href=\"https://livebook.manning.com/book/classic-computer-science-problems-in-python/chapter-3/59\">Livebook Manning, 2019</a>). As mentioned, the FWI system has steps and states, which we could implement in an automated system the state pattern to process and make decisions based on a dataset. Of course, this approach is much harder and would take longer to build a system. However, we have available technologies, such as YOLO-V4, Darknet, and Tensorflow to train models and generate ready packages for various programming languages. The question is how to rationalize as humans to consider environmental nuances? Generative Pre-trained Transformer 3 (GPT-3) is a model that can use <i>Semantic Search</i> to answer complex natural-language questions quickly and accurately. It can also be integrated with other technologies.\n",
        "</p>\n",
        "\n",
        "<blockquote cite=\"https://www.twilio.com/blog/what-is-gpt-3\">\n",
        "<q>\n",
        "Whether you're looking for an answer to a question or more relevant search results, GPT-3 can help. Rather than just keyword matching, GPT-3's extensive knowledge can be used to answer complex natural-language questions quickly and accurately (<a href=\"https://www.twilio.com/blog/what-is-gpt-3\">Twilio, 2020</a>).\n",
        "</q>\n",
        "</blockquote>\n",
        "\n"
      ],
      "metadata": {
        "id": "RB4DzsPLPbbr"
      }
    },
    {
      "cell_type": "markdown",
      "source": [
        "#### AI-Generated Recipe"
      ],
      "metadata": {
        "id": "mOTtD7iJZ5e8"
      }
    },
    {
      "cell_type": "markdown",
      "source": [
        "<p align=\"justify\">\n",
        "&emsp;&emsp;GPT-3 has written a detailed recipe that is indistinguishable from a humam writting. Above see a sniptch for the AI recipe.\n",
        "</p>\n",
        "\n",
        "<blockquote cite=\"https://www.twilio.com/blog/what-is-gpt-3\">\n",
        "<i>\n",
        "I love a good banana shake. I must have tried a thousand of them over the years. So, when I wanted to add one to the menu of the cafe, I was pretty picky. I wanted something that tasted good but wasn’t overly sweet. I wanted the banana and vanilla flavors to really shine through.\n",
        "<br><br>\n",
        "Since I was using fresh bananas, I wanted them to be the ripest, sweetest ones I could find. I use a banana or two (depending on size), one cup of vanilla almond milk, 3/4 cup of ice, 3/4 cup of milk, 1/4 cup of nonfat plain greek yogurt, 2 tbl of almond milk creamer, 1 tbl of cocoa powder, 1/2 tsp of cinnamon, 1/4 tsp of nutmeg, and 1/8 tsp of ground cloves. For the Oreo shake, I add 1/2 cup of nonfat plain greek yogurt. That’s it! So simple and so good.\n",
        "<br><br>\n",
        "It’s a simple recipe, but that’s the best part. Fresh ingredients make a huge difference. The bananas, vanilla, and cocoa are such a great combo (<a href=\"https://www.twilio.com/blog/what-is-gpt-3\">Twilio, 2021</a>).\n",
        "</i>\n",
        "</blockquote>\n",
        "\n"
      ],
      "metadata": {
        "id": "uBfA6ObiZ-mj"
      }
    },
    {
      "cell_type": "markdown",
      "source": [
        "#### Why Data Mining is Important?"
      ],
      "metadata": {
        "id": "XsiRYzBJ4XTa"
      }
    },
    {
      "cell_type": "markdown",
      "source": [
        "<p align=\"justify\">\n",
        "&emsp;&emsp;Data Mining (DM) consists of an analytical process designed to explore big data (usually related to business, market decision, and scientific researches) to find consistent systematic patterns between variables, and then it is validated by applying the detected patterns to a new set of data. The process is divided into six steps: Business Understanding, Data Understanding, Data Preparation, Modeling, Evaluation, and Deployment.\n",
        "\n",
        "&emsp;&emsp;The DM premise is an active argumentation, it means instead of a user defining the problem, selecting the data and tools to analyse such dataset, the DM search automatically for outliers, relations, and correlation, thus identifying problems that had not been identified by the user.\n",
        "\n",
        "&emsp;&emsp;DM used for Artificial intelligence (AI), Association rule learning, Clustering, Classification, Data analytics, Data warehousing, Machine learning, and Regression (<a href=\"https://www.pantechelearning.com/importance-of-data-mining-and-its-uses/\">Pantech e Learning, 2022</a>).\n",
        "</p>"
      ],
      "metadata": {
        "id": "rpuOc9yE4bV_"
      }
    },
    {
      "cell_type": "markdown",
      "source": [
        "#### Conclusion"
      ],
      "metadata": {
        "id": "FVrgUzegbVtR"
      }
    },
    {
      "cell_type": "markdown",
      "source": [
        "<p align=\"justify\">\n",
        "&emsp;&emsp;I believe Data Mining will stick with us for a long time, or maybe forever. We should not be concerned whether it is a human implementing manually DM or an AI. The primary concern is whether we have ways to mitigate small or big fires in forests. Even GPT-3 still depends on us to tell what we want, what we are looking for.\n",
        "<br>\n",
        "&emsp;&emsp;As long humans stay curious, we shall exploit technologies to find solutions for our world.\n",
        "</p>"
      ],
      "metadata": {
        "id": "A9HmdCZRbumO"
      }
    },
    {
      "cell_type": "markdown",
      "source": [
        "### Are outliers present in the above data set? Provide a strategy of removing outliers from the data set."
      ],
      "metadata": {
        "id": "aoP9r5CCjwT1"
      }
    },
    {
      "cell_type": "markdown",
      "source": [
        "<p align=\"justify\">\n",
        "&emsp;&emsp;The dataset under analysis is available on the UCI webpage. Before the source section, a table is presented with an overview of the dataset. It states if there is any missing data we should have an NA value. It is added some values are skewed towards 0.0, and the recommendation is to model with the logarithm transform.\n",
        "</p>\n",
        "\n",
        "<blockquote cite=\"https://archive.ics.uci.edu/ml/datasets/Forest+Fires\">\n",
        "<q>\n",
        "13. area - the burned area of the forest (in ha): 0.00 to 1090.84\n",
        "(this output variable is very skewed towards 0.0, thus it may make\n",
        "sense to model with the logarithm transformation) (<a href=\"https://archive.ics.uci.edu/ml/datasets/Forest+Fires\">UCI Machine Learning Repository, 2022</a>).\n",
        "</q>\n",
        "</blockquote>"
      ],
      "metadata": {
        "id": "X3rgX7O9BOaF"
      }
    },
    {
      "cell_type": "code",
      "source": [
        "#@markdown 👈 Please, run this cell to look for NA data. This is an important step in cleaning a data set. A TRUE value is printed if there is any NA value in the data set. Otherwise FALSE.\n",
        "\n",
        "#@markdown The function to check for any NA value is `any(is.na(df))`\n",
        "any(is.na(df))"
      ],
      "metadata": {
        "colab": {
          "base_uri": "https://localhost:8080/",
          "height": 34
        },
        "cellView": "form",
        "id": "LfwyfH-4yHch",
        "outputId": "2586de45-3364-4b20-826b-2d8b9371f69e"
      },
      "execution_count": 9,
      "outputs": [
        {
          "output_type": "display_data",
          "data": {
            "text/plain": [
              "[1] FALSE"
            ],
            "text/latex": "FALSE",
            "text/markdown": "FALSE",
            "text/html": [
              "FALSE"
            ]
          },
          "metadata": {}
        }
      ]
    },
    {
      "cell_type": "code",
      "source": [
        "#@markdown 👈 Plase run this cell. You can also achieve a similar result by running the function `sum(is.na(df))`. This function will sum all the values that contain NA.\n",
        "\n",
        "#@markdown If there is no NA value you should see a zero. Otherwise the sum of all the occurrences.\n",
        "\n",
        "# https://datacornering.com/check-if-a-column-has-a-missing-values-na-in-r/\n",
        "sum(is.na(df))"
      ],
      "metadata": {
        "colab": {
          "base_uri": "https://localhost:8080/",
          "height": 34
        },
        "cellView": "form",
        "id": "CbH2AuZGqxJ1",
        "outputId": "f6a4eb26-936d-4b08-a7df-7447b98bcd5f"
      },
      "execution_count": 10,
      "outputs": [
        {
          "output_type": "display_data",
          "data": {
            "text/plain": [
              "[1] 0"
            ],
            "text/latex": "0",
            "text/markdown": "0",
            "text/html": [
              "0"
            ]
          },
          "metadata": {}
        }
      ]
    },
    {
      "cell_type": "markdown",
      "source": [
        "#### Example of Shifting Values with Logarithm Transformation"
      ],
      "metadata": {
        "id": "9fNF9iEDDz5H"
      }
    },
    {
      "cell_type": "code",
      "source": [
        "#@markdown 👈 Run this cell to show the following values of a vector shifted by 1.\n",
        "\n",
        "#@markdown `c(100, 10, 5, 2, 1, 0.5, 0.1, 0.05, 0.01, 0.001, 0.0001)`\n",
        "\n",
        "# https://www.programmingr.com/tutorial/log-in-r/\n",
        "# log in R - vector transformation \n",
        "v = c(100,10,5,2,1,0.5,0.1,0.05,0.01,0.001,0.0001)\n",
        "q=log(v+1)\n",
        "q"
      ],
      "metadata": {
        "colab": {
          "base_uri": "https://localhost:8080/",
          "height": 52
        },
        "cellView": "form",
        "id": "YqA3SNifoLox",
        "outputId": "f664c46e-cac7-4f44-ba31-85a42b0b0569"
      },
      "execution_count": 11,
      "outputs": [
        {
          "output_type": "display_data",
          "data": {
            "text/plain": [
              " [1] 4.6151205168 2.3978952728 1.7917594692 1.0986122887 0.6931471806\n",
              " [6] 0.4054651081 0.0953101798 0.0487901642 0.0099503309 0.0009995003\n",
              "[11] 0.0000999950"
            ],
            "text/latex": "\\begin{enumerate*}\n\\item 4.61512051684126\n\\item 2.39789527279837\n\\item 1.79175946922805\n\\item 1.09861228866811\n\\item 0.693147180559945\n\\item 0.405465108108164\n\\item 0.0953101798043249\n\\item 0.048790164169432\n\\item 0.00995033085316809\n\\item 0.000999500333083423\n\\item 9.99950003332973e-05\n\\end{enumerate*}\n",
            "text/markdown": "1. 4.61512051684126\n2. 2.39789527279837\n3. 1.79175946922805\n4. 1.09861228866811\n5. 0.693147180559945\n6. 0.405465108108164\n7. 0.0953101798043249\n8. 0.048790164169432\n9. 0.00995033085316809\n10. 0.000999500333083423\n11. 9.99950003332973e-05\n\n\n",
            "text/html": [
              "<style>\n",
              ".list-inline {list-style: none; margin:0; padding: 0}\n",
              ".list-inline>li {display: inline-block}\n",
              ".list-inline>li:not(:last-child)::after {content: \"\\00b7\"; padding: 0 .5ex}\n",
              "</style>\n",
              "<ol class=list-inline><li>4.61512051684126</li><li>2.39789527279837</li><li>1.79175946922805</li><li>1.09861228866811</li><li>0.693147180559945</li><li>0.405465108108164</li><li>0.0953101798043249</li><li>0.048790164169432</li><li>0.00995033085316809</li><li>0.000999500333083423</li><li>9.99950003332973e-05</li></ol>\n"
            ]
          },
          "metadata": {}
        }
      ]
    },
    {
      "cell_type": "code",
      "source": [
        "#@markdown 👈 Run this cell to plot the difference between the vector values before and after the logarithm transformation.\n",
        "\n",
        "# https://stackoverflow.com/questions/6774339/r-how-do-i-put-two-box-plots-next-to-each-other-keeping-same-y-range-for-both\n",
        "par(mfrow = c(1, 2))\n",
        "plot(v, pch=16, col=\"red\", main=\"No Logarithm Transformation\\napplyed\")\n",
        "plot(q, pch=16, col=\"red\", main=\"Vector Shifted by 1\")"
      ],
      "metadata": {
        "colab": {
          "base_uri": "https://localhost:8080/",
          "height": 437
        },
        "cellView": "form",
        "id": "NIBLC2VkoUlI",
        "outputId": "3f7c412a-3161-45b3-c4a2-bbb30647f907"
      },
      "execution_count": 12,
      "outputs": [
        {
          "output_type": "display_data",
          "data": {
            "image/png": "[encoded data removed]",
            "text/plain": [
              "Plot with title “Vector Shifted by 1”"
            ]
          },
          "metadata": {
            "image/png": {
              "width": 420,
              "height": 420
            }
          }
        }
      ]
    },
    {
      "cell_type": "markdown",
      "source": [
        "#### Shifting Area Variable with Logarithm Transformation"
      ],
      "metadata": {
        "id": "sK-BaTjvFs7J"
      }
    },
    {
      "cell_type": "code",
      "source": [
        "#@markdown 👈 Run this cell to shift the area variable values by 2.\n",
        "\n",
        "#@markdown Notice that there is not any value of 0.0\n",
        "\n",
        "logTranf = log(df$area+2)\n",
        "logTranf"
      ],
      "metadata": {
        "colab": {
          "base_uri": "https://localhost:8080/",
          "height": 833
        },
        "cellView": "form",
        "id": "pptsVBUdqFEL",
        "outputId": "7386ea9b-1dc4-4347-c224-e57537b17ff2"
      },
      "execution_count": 21,
      "outputs": [
        {
          "output_type": "display_data",
          "data": {
            "text/plain": [
              "  [1] 0.6931472 0.6931472 0.6931472 0.6931472 0.6931472 0.6931472 0.6931472\n",
              "  [8] 0.6931472 0.6931472 0.6931472 0.6931472 0.6931472 0.6931472 0.6931472\n",
              " [15] 0.6931472 0.6931472 0.6931472 0.6931472 0.6931472 0.6931472 0.6931472\n",
              " [22] 0.6931472 0.6931472 0.6931472 0.6931472 0.6931472 0.6931472 0.6931472\n",
              " [29] 0.6931472 0.6931472 0.6931472 0.6931472 0.6931472 0.6931472 0.6931472\n",
              " [36] 0.6931472 0.6931472 0.6931472 0.6931472 0.6931472 0.6931472 0.6931472\n",
              " [43] 0.6931472 0.6931472 0.6931472 0.6931472 0.6931472 0.6931472 0.6931472\n",
              " [50] 0.6931472 0.6931472 0.6931472 0.6931472 0.6931472 0.6931472 0.6931472\n",
              " [57] 0.6931472 0.6931472 0.6931472 0.6931472 0.6931472 0.6931472 0.6931472\n",
              " [64] 0.6931472 0.6931472 0.6931472 0.6931472 0.6931472 0.6931472 0.6931472\n",
              " [71] 0.6931472 0.6931472 0.6931472 0.6931472 0.6931472 0.6931472 0.6931472\n",
              " [78] 0.6931472 0.6931472 0.6931472 0.6931472 0.6931472 0.6931472 0.6931472\n",
              " [85] 0.6931472 0.6931472 0.6931472 0.6931472 0.6931472 0.6931472 0.6931472\n",
              " [92] 0.6931472 0.6931472 0.6931472 0.6931472 0.6931472 0.6931472 0.6931472\n",
              " [99] 0.6931472 0.6931472 0.6931472 0.6931472 0.6931472 0.6931472 0.6931472\n",
              "[106] 0.6931472 0.6931472 0.6931472 0.6931472 0.6931472 0.6931472 0.6931472\n",
              "[113] 0.6931472 0.6931472 0.6931472 0.6931472 0.6931472 0.6931472 0.6931472\n",
              "[120] 0.6931472 0.6931472 0.6931472 0.6931472 0.6931472 0.6931472 0.6931472\n",
              "[127] 0.6931472 0.6931472 0.6931472 0.6931472 0.6931472 0.6931472 0.6931472\n",
              "[134] 0.6931472 0.6931472 0.6931472 0.6931472 0.6931472 0.8586616 0.8878913\n",
              "[141] 0.9042182 0.9360934 0.9593502 0.9969486 1.0188473 1.0647107 1.0818052\n",
              "[148] 1.0851893 1.1216776 1.1378330 1.1600209 1.2119410 1.2325603 1.2412686\n",
              "[155] 1.2412686 1.2697605 1.2837078 1.2892326 1.2919837 1.3056265 1.3217558\n",
              "[162] 1.3609766 1.3711807 1.3737156 1.3887912 1.4206958 1.4562867 1.5062972\n",
              "[169] 1.5107219 1.5151272 1.5195132 1.5454326 1.5560371 1.6233408 1.7047481\n",
              "[176] 1.8764069 1.8885837 1.9006139 1.9286187 1.9782390 1.9919755 2.0068708\n",
              "[183] 2.1258479 2.1781550 2.1927702 2.2016592 2.2181159 2.2300144 2.2407097\n",
              "[190] 2.3263016 2.3331143 2.3683728 2.3711779 2.4344902 2.4857396 2.4865719\n",
              "[197] 2.5595502 2.5695541 2.5832426 2.5892667 2.6049094 2.6461748 2.7113780\n",
              "[204] 2.7536607 2.7719635 2.8075938 2.8593396 2.9549103 3.0554153 3.2351428\n",
              "[211] 3.2669038 3.3322045 3.3368366 3.3792925 3.4229589 3.4229589 3.4493524\n",
              "[218] 3.4756862 3.5180911 3.5222344 3.5284172 3.6344233 3.6597081 3.6640743\n",
              "[225] 3.6816030 3.9229629 3.9390543 4.0993321 4.1911687 4.2945606 4.5052393\n",
              "[232] 4.5765649 4.6576678 4.6789781 5.0554812 5.2906883 5.3129104 5.3700797\n",
              "[239] 6.9965351 0.6931472 0.6931472 0.6931472 2.4956817 0.6931472 1.5830939\n",
              "[246] 1.0152307 0.7371641 1.0116009 0.6931472 1.4973884 0.9858168 0.8064759\n",
              "[253] 0.7929925 1.2584610 2.5128460 0.6931472 2.3045831 0.9858168 0.6931472\n",
              "[260] 1.2178757 2.3841651 1.6677068 1.8325815 1.2697605 2.1447610 1.0260416\n",
              "[267] 0.7747272 0.6931472 0.6931472 1.8562980 0.9242589 2.4221443 1.6272778\n",
              "[274] 2.3960754 2.5794590 1.9987736 2.9882040 2.5439614 3.1793030 2.4655539\n",
              "[281] 2.4221443 3.2872819 0.6931472 1.1314021 3.2672850 0.6931472 0.6931472\n",
              "[288] 0.6931472 0.6931472 0.6931472 0.6931472 2.3025851 1.5347144 4.4824374\n",
              "[295] 2.1482677 0.6931472 1.0647107 0.6931472 0.6931472 0.6931472 0.6931472\n",
              "[302] 1.7083779 0.6931472 0.6931472 0.6931472 0.6931472 0.8796267 1.9712994\n",
              "[309] 0.6931472 0.6931472 0.6931472 2.7905514 0.6931472 0.6931472 1.2753628\n",
              "[316] 0.6931472 0.6931472 1.7544037 0.6931472 1.8578593 3.5934693 2.2202899\n",
              "[323] 1.1019401 1.4303112 1.8594181 0.6931472 0.6931472 0.6931472 0.6931472\n",
              "[330] 1.6733512 2.1494339 2.8701691 2.5817308 1.4182774 0.6931472 0.6931472\n",
              "[337] 0.6931472 4.0611324 2.2491843 1.2441546 1.7800242 0.6931472 0.6931472\n",
              "[344] 1.4303112 2.0918641 2.0579625 3.4075107 0.6931472 0.6931472 1.2919837\n",
              "[351] 1.7422190 2.2310891 1.3937664 1.3137237 2.0756845 2.7120422 1.1817272\n",
              "[358] 0.6931472 0.6931472 2.3145137 1.1281711 1.7817091 0.9242589 1.5953390\n",
              "[365] 2.0347056 3.0924052 1.3217558 0.6931472 2.6837575 0.6931472 2.5695541\n",
              "[372] 0.6931472 0.6931472 0.6931472 3.0106209 3.7220724 0.6931472 5.1740571\n",
              "[379] 0.6931472 0.6931472 2.2752139 2.9085391 2.0617866 3.8037694 2.6518325\n",
              "[386] 2.8903718 3.2805352 0.6931472 3.4255647 0.6931472 2.4815677 3.4713451\n",
              "[393] 4.2871664 0.6931472 0.6931472 3.9849017 1.7298841 1.7281094 0.6931472\n",
              "[400] 0.6931472 2.3184584 1.9387417 0.6931472 0.6931472 2.0844291 0.6931472\n",
              "[407] 1.7833912 0.6931472 2.2823824 0.6931472 0.6931472 1.8900954 1.2892326\n",
              "[414] 0.6931472 0.6931472 6.6177772 2.1994443 0.6931472 1.4906544 1.6193882\n",
              "[421] 5.2351646 0.6931472 2.1162555 1.0006319 1.9401795 0.6931472 0.6931472\n",
              "[428] 1.4701758 0.6931472 1.6486586 0.6931472 2.1234584 0.6931472 2.8530160\n",
              "[435] 0.6931472 0.6931472 0.9321641 0.6931472 2.1317968 0.8458683 0.6931472\n",
              "[442] 1.1724821 1.6770966 0.6931472 2.4815677 0.6931472 0.6931472 0.6931472\n",
              "[449] 0.6931472 0.6931472 2.1317968 2.4604432 0.6931472 0.6931472 0.6931472\n",
              "[456] 0.6931472 0.6931472 4.4397057 1.6714733 1.3711807 0.6931472 0.6931472\n",
              "[463] 1.7422190 2.0001277 1.4206958 2.1792869 1.6448051 2.0215476 2.1529243\n",
              "[470] 4.1451961 0.6931472 3.7008080 1.3711807 4.2811007 2.4915512 1.6467337\n",
              "[477] 1.3244190 2.2364453 1.4374626 5.6366807 1.5581446 0.6931472 1.1908876\n",
              "[484] 0.6931472 3.3474449 1.4036430 1.3862944 2.9123507 3.8856790 0.6931472\n",
              "[491] 0.6931472 0.6931472 0.6931472 3.8137484 2.3599102 0.6931472 1.5623463\n",
              "[498] 2.8142104 3.7504448 2.5510065 0.6931472 0.6931472 0.6931472 1.3737156\n",
              "[505] 3.9433279 2.0541237 0.6931472 0.6931472 0.6931472 1.4279160 0.8878913\n",
              "[512] 0.6931472 2.1329823 4.0305169 2.5771819 0.6931472 0.6931472"
            ],
            "text/latex": "\\begin{enumerate*}\n\\item 0.693147180559945\n\\item 0.693147180559945\n\\item 0.693147180559945\n\\item 0.693147180559945\n\\item 0.693147180559945\n\\item 0.693147180559945\n\\item 0.693147180559945\n\\item 0.693147180559945\n\\item 0.693147180559945\n\\item 0.693147180559945\n\\item 0.693147180559945\n\\item 0.693147180559945\n\\item 0.693147180559945\n\\item 0.693147180559945\n\\item 0.693147180559945\n\\item 0.693147180559945\n\\item 0.693147180559945\n\\item 0.693147180559945\n\\item 0.693147180559945\n\\item 0.693147180559945\n\\item 0.693147180559945\n\\item 0.693147180559945\n\\item 0.693147180559945\n\\item 0.693147180559945\n\\item 0.693147180559945\n\\item 0.693147180559945\n\\item 0.693147180559945\n\\item 0.693147180559945\n\\item 0.693147180559945\n\\item 0.693147180559945\n\\item 0.693147180559945\n\\item 0.693147180559945\n\\item 0.693147180559945\n\\item 0.693147180559945\n\\item 0.693147180559945\n\\item 0.693147180559945\n\\item 0.693147180559945\n\\item 0.693147180559945\n\\item 0.693147180559945\n\\item 0.693147180559945\n\\item 0.693147180559945\n\\item 0.693147180559945\n\\item 0.693147180559945\n\\item 0.693147180559945\n\\item 0.693147180559945\n\\item 0.693147180559945\n\\item 0.693147180559945\n\\item 0.693147180559945\n\\item 0.693147180559945\n\\item 0.693147180559945\n\\item 0.693147180559945\n\\item 0.693147180559945\n\\item 0.693147180559945\n\\item 0.693147180559945\n\\item 0.693147180559945\n\\item 0.693147180559945\n\\item 0.693147180559945\n\\item 0.693147180559945\n\\item 0.693147180559945\n\\item 0.693147180559945\n\\item 0.693147180559945\n\\item 0.693147180559945\n\\item 0.693147180559945\n\\item 0.693147180559945\n\\item 0.693147180559945\n\\item 0.693147180559945\n\\item 0.693147180559945\n\\item 0.693147180559945\n\\item 0.693147180559945\n\\item 0.693147180559945\n\\item 0.693147180559945\n\\item 0.693147180559945\n\\item 0.693147180559945\n\\item 0.693147180559945\n\\item 0.693147180559945\n\\item 0.693147180559945\n\\item 0.693147180559945\n\\item 0.693147180559945\n\\item 0.693147180559945\n\\item 0.693147180559945\n\\item 0.693147180559945\n\\item 0.693147180559945\n\\item 0.693147180559945\n\\item 0.693147180559945\n\\item 0.693147180559945\n\\item 0.693147180559945\n\\item 0.693147180559945\n\\item 0.693147180559945\n\\item 0.693147180559945\n\\item 0.693147180559945\n\\item 0.693147180559945\n\\item 0.693147180559945\n\\item 0.693147180559945\n\\item 0.693147180559945\n\\item 0.693147180559945\n\\item 0.693147180559945\n\\item 0.693147180559945\n\\item 0.693147180559945\n\\item 0.693147180559945\n\\item 0.693147180559945\n\\item 0.693147180559945\n\\item 0.693147180559945\n\\item 0.693147180559945\n\\item 0.693147180559945\n\\item 0.693147180559945\n\\item 0.693147180559945\n\\item 0.693147180559945\n\\item 0.693147180559945\n\\item 0.693147180559945\n\\item 0.693147180559945\n\\item 0.693147180559945\n\\item 0.693147180559945\n\\item 0.693147180559945\n\\item 0.693147180559945\n\\item 0.693147180559945\n\\item 0.693147180559945\n\\item 0.693147180559945\n\\item 0.693147180559945\n\\item 0.693147180559945\n\\item 0.693147180559945\n\\item 0.693147180559945\n\\item 0.693147180559945\n\\item 0.693147180559945\n\\item 0.693147180559945\n\\item 0.693147180559945\n\\item 0.693147180559945\n\\item 0.693147180559945\n\\item 0.693147180559945\n\\item 0.693147180559945\n\\item 0.693147180559945\n\\item 0.693147180559945\n\\item 0.693147180559945\n\\item 0.693147180559945\n\\item 0.693147180559945\n\\item 0.693147180559945\n\\item 0.693147180559945\n\\item 0.693147180559945\n\\item 0.693147180559945\n\\item 0.858661619037519\n\\item 0.887891257352457\n\\item 0.904218150639886\n\\item 0.936093359170335\n\\item 0.959350221334602\n\\item 0.99694863489161\n\\item 1.01884732019925\n\\item 1.06471073699243\n\\item 1.08180517035173\n\\item 1.08518926833597\n\\item 1.12167756159911\n\\item 1.13783300182139\n\\item 1.16002091679675\n\\item 1.21194097397511\n\\item 1.23256026117785\n\\item 1.24126858906963\n\\item 1.24126858906963\n\\item 1.26976054486394\n\\item 1.28370777234479\n\\item 1.28923264827676\n\\item 1.29198368164865\n\\item 1.30562645805244\n\\item 1.32175583998232\n\\item 1.3609765531356\n\\item 1.37118072330984\n\\item 1.37371557891303\n\\item 1.38879124131848\n\\item 1.42069578783722\n\\item 1.45628673293993\n\\item 1.50629715351459\n\\item 1.51072193949494\n\\item 1.51512723296286\n\\item 1.51951320490611\n\\item 1.54543258245819\n\\item 1.55603713570699\n\\item 1.62334081760309\n\\item 1.70474809223843\n\\item 1.87640694328834\n\\item 1.88858365386359\n\\item 1.90061387414014\n\\item 1.92861865194525\n\\item 1.97823903617067\n\\item 1.99197551589856\n\\item 2.006870848845\n\\item 2.12584791449399\n\\item 2.17815501461587\n\\item 2.19277022698684\n\\item 2.20165917440409\n\\item 2.2181159363676\n\\item 2.23001440015921\n\\item 2.24070968927596\n\\item 2.32630161961136\n\\item 2.33311429802887\n\\item 2.36837283353205\n\\item 2.37117788445966\n\\item 2.43449016387398\n\\item 2.48573963609189\n\\item 2.48657192910706\n\\item 2.55955019278377\n\\item 2.56955412384829\n\\item 2.58324255050886\n\\item 2.58926666511224\n\\item ⋯\n\\item 1.75440368268429\n\\item 0.693147180559945\n\\item 1.85785927093258\n\\item 3.59346926930928\n\\item 2.22028985026722\n\\item 1.10194007876078\n\\item 1.43031124653666\n\\item 1.85941811770187\n\\item 0.693147180559945\n\\item 0.693147180559945\n\\item 0.693147180559945\n\\item 0.693147180559945\n\\item 1.67335123817775\n\\item 2.14943391349987\n\\item 2.87016905057865\n\\item 2.58173083442354\n\\item 1.41827740697294\n\\item 0.693147180559945\n\\item 0.693147180559945\n\\item 0.693147180559945\n\\item 4.06113242801599\n\\item 2.24918431626693\n\\item 1.24415459395877\n\\item 1.78002421300963\n\\item 0.693147180559945\n\\item 0.693147180559945\n\\item 1.43031124653666\n\\item 2.09186406167839\n\\item 2.05796251000271\n\\item 3.40751074371875\n\\item 0.693147180559945\n\\item 0.693147180559945\n\\item 1.29198368164865\n\\item 1.74221902366792\n\\item 2.23108909128898\n\\item 1.39376637595859\n\\item 1.31372366828506\n\\item 2.07568449280212\n\\item 2.71204222237175\n\\item 1.18172719537862\n\\item 0.693147180559945\n\\item 0.693147180559945\n\\item 2.31451366385932\n\\item 1.12817109090965\n\\item 1.78170913337455\n\\item 0.924258901523332\n\\item 1.5953389880546\n\\item 2.03470564783844\n\\item 3.09240516081425\n\\item 1.32175583998232\n\\item 0.693147180559945\n\\item 2.68375750853317\n\\item 0.693147180559945\n\\item 2.56955412384829\n\\item 0.693147180559945\n\\item 0.693147180559945\n\\item 0.693147180559945\n\\item 3.01062088604774\n\\item 3.7220724214697\n\\item 0.693147180559945\n\\item 5.17405714916735\n\\item 0.693147180559945\n\\item 0.693147180559945\n\\item 2.27521389619791\n\\item 2.90853906185161\n\\item 2.06178660644112\n\\item 3.80376941998789\n\\item 2.65183252110398\n\\item 2.89037175789616\n\\item 3.28053520525493\n\\item 0.693147180559945\n\\item 3.42556473811045\n\\item 0.693147180559945\n\\item 2.48156774852249\n\\item 3.47134514156424\n\\item 4.28716635364992\n\\item 0.693147180559945\n\\item 0.693147180559945\n\\item 3.98490165084072\n\\item 1.72988406550997\n\\item 1.7281094421516\n\\item 0.693147180559945\n\\item 0.693147180559945\n\\item 2.31845844215034\n\\item 1.9387416595767\n\\item 0.693147180559945\n\\item 0.693147180559945\n\\item 2.08442908319087\n\\item 0.693147180559945\n\\item 1.78339121955754\n\\item 0.693147180559945\n\\item 2.28238238567653\n\\item 0.693147180559945\n\\item 0.693147180559945\n\\item 1.89009536994892\n\\item 1.28923264827676\n\\item 0.693147180559945\n\\item 0.693147180559945\n\\item 6.6177772394807\n\\item 2.19944433407453\n\\item 0.693147180559945\n\\item 1.49065437644413\n\\item 1.61938824328727\n\\item 5.23516455154277\n\\item 0.693147180559945\n\\item 2.11625551480255\n\\item 1.00063188030791\n\\item 1.94017947434633\n\\item 0.693147180559945\n\\item 0.693147180559945\n\\item 1.47017584510059\n\\item 0.693147180559945\n\\item 1.64865862558738\n\\item 0.693147180559945\n\\item 2.12345842709661\n\\item 0.693147180559945\n\\item 2.8530159713524\n\\item 0.693147180559945\n\\item 0.693147180559945\n\\item 0.932164081030445\n\\item 0.693147180559945\n\\item 2.13179677201376\n\\item 0.845868267577609\n\\item 0.693147180559945\n\\item 1.17248213723457\n\\item 1.67709656090792\n\\item 0.693147180559945\n\\item 2.48156774852249\n\\item 0.693147180559945\n\\item 0.693147180559945\n\\item 0.693147180559945\n\\item 0.693147180559945\n\\item 0.693147180559945\n\\item 2.13179677201376\n\\item 2.46044317760963\n\\item 0.693147180559945\n\\item 0.693147180559945\n\\item 0.693147180559945\n\\item 0.693147180559945\n\\item 0.693147180559945\n\\item 4.43970574626056\n\\item 1.67147330335355\n\\item 1.37118072330984\n\\item 0.693147180559945\n\\item 0.693147180559945\n\\item 1.74221902366792\n\\item 2.00012773496011\n\\item 1.42069578783722\n\\item 2.17928687664955\n\\item 1.64480505627139\n\\item 2.02154756326093\n\\item 2.15292431843964\n\\item 4.14519609237953\n\\item 0.693147180559945\n\\item 3.70080802497921\n\\item 1.37118072330984\n\\item 4.28110071608392\n\\item 2.49155119250667\n\\item 1.6467336971778\n\\item 1.3244189574018\n\\item 2.2364452904895\n\\item 1.43746264769429\n\\item 5.63668067111546\n\\item 1.55814461804655\n\\item 0.693147180559945\n\\item 1.19088756477728\n\\item 0.693147180559945\n\\item 3.34744492566291\n\\item 1.4036429994545\n\\item 1.38629436111989\n\\item 2.91235066461494\n\\item 3.88567903008854\n\\item 0.693147180559945\n\\item 0.693147180559945\n\\item 0.693147180559945\n\\item 0.693147180559945\n\\item 3.81374843615981\n\\item 2.35991015961332\n\\item 0.693147180559945\n\\item 1.56234630490025\n\\item 2.8142103969306\n\\item 3.75044480977209\n\\item 2.55100645149252\n\\item 0.693147180559945\n\\item 0.693147180559945\n\\item 0.693147180559945\n\\item 1.37371557891303\n\\item 3.94332785525656\n\\item 2.05412373369555\n\\item 0.693147180559945\n\\item 0.693147180559945\n\\item 0.693147180559945\n\\item 1.42791603581071\n\\item 0.887891257352457\n\\item 0.693147180559945\n\\item 2.13298230860787\n\\item 4.03051689947594\n\\item 2.57718192589717\n\\item 0.693147180559945\n\\item 0.693147180559945\n\\end{enumerate*}\n",
            "text/markdown": "1. 0.693147180559945\n2. 0.693147180559945\n3. 0.693147180559945\n4. 0.693147180559945\n5. 0.693147180559945\n6. 0.693147180559945\n7. 0.693147180559945\n8. 0.693147180559945\n9. 0.693147180559945\n10. 0.693147180559945\n11. 0.693147180559945\n12. 0.693147180559945\n13. 0.693147180559945\n14. 0.693147180559945\n15. 0.693147180559945\n16. 0.693147180559945\n17. 0.693147180559945\n18. 0.693147180559945\n19. 0.693147180559945\n20. 0.693147180559945\n21. 0.693147180559945\n22. 0.693147180559945\n23. 0.693147180559945\n24. 0.693147180559945\n25. 0.693147180559945\n26. 0.693147180559945\n27. 0.693147180559945\n28. 0.693147180559945\n29. 0.693147180559945\n30. 0.693147180559945\n31. 0.693147180559945\n32. 0.693147180559945\n33. 0.693147180559945\n34. 0.693147180559945\n35. 0.693147180559945\n36. 0.693147180559945\n37. 0.693147180559945\n38. 0.693147180559945\n39. 0.693147180559945\n40. 0.693147180559945\n41. 0.693147180559945\n42. 0.693147180559945\n43. 0.693147180559945\n44. 0.693147180559945\n45. 0.693147180559945\n46. 0.693147180559945\n47. 0.693147180559945\n48. 0.693147180559945\n49. 0.693147180559945\n50. 0.693147180559945\n51. 0.693147180559945\n52. 0.693147180559945\n53. 0.693147180559945\n54. 0.693147180559945\n55. 0.693147180559945\n56. 0.693147180559945\n57. 0.693147180559945\n58. 0.693147180559945\n59. 0.693147180559945\n60. 0.693147180559945\n61. 0.693147180559945\n62. 0.693147180559945\n63. 0.693147180559945\n64. 0.693147180559945\n65. 0.693147180559945\n66. 0.693147180559945\n67. 0.693147180559945\n68. 0.693147180559945\n69. 0.693147180559945\n70. 0.693147180559945\n71. 0.693147180559945\n72. 0.693147180559945\n73. 0.693147180559945\n74. 0.693147180559945\n75. 0.693147180559945\n76. 0.693147180559945\n77. 0.693147180559945\n78. 0.693147180559945\n79. 0.693147180559945\n80. 0.693147180559945\n81. 0.693147180559945\n82. 0.693147180559945\n83. 0.693147180559945\n84. 0.693147180559945\n85. 0.693147180559945\n86. 0.693147180559945\n87. 0.693147180559945\n88. 0.693147180559945\n89. 0.693147180559945\n90. 0.693147180559945\n91. 0.693147180559945\n92. 0.693147180559945\n93. 0.693147180559945\n94. 0.693147180559945\n95. 0.693147180559945\n96. 0.693147180559945\n97. 0.693147180559945\n98. 0.693147180559945\n99. 0.693147180559945\n100. 0.693147180559945\n101. 0.693147180559945\n102. 0.693147180559945\n103. 0.693147180559945\n104. 0.693147180559945\n105. 0.693147180559945\n106. 0.693147180559945\n107. 0.693147180559945\n108. 0.693147180559945\n109. 0.693147180559945\n110. 0.693147180559945\n111. 0.693147180559945\n112. 0.693147180559945\n113. 0.693147180559945\n114. 0.693147180559945\n115. 0.693147180559945\n116. 0.693147180559945\n117. 0.693147180559945\n118. 0.693147180559945\n119. 0.693147180559945\n120. 0.693147180559945\n121. 0.693147180559945\n122. 0.693147180559945\n123. 0.693147180559945\n124. 0.693147180559945\n125. 0.693147180559945\n126. 0.693147180559945\n127. 0.693147180559945\n128. 0.693147180559945\n129. 0.693147180559945\n130. 0.693147180559945\n131. 0.693147180559945\n132. 0.693147180559945\n133. 0.693147180559945\n134. 0.693147180559945\n135. 0.693147180559945\n136. 0.693147180559945\n137. 0.693147180559945\n138. 0.693147180559945\n139. 0.858661619037519\n140. 0.887891257352457\n141. 0.904218150639886\n142. 0.936093359170335\n143. 0.959350221334602\n144. 0.99694863489161\n145. 1.01884732019925\n146. 1.06471073699243\n147. 1.08180517035173\n148. 1.08518926833597\n149. 1.12167756159911\n150. 1.13783300182139\n151. 1.16002091679675\n152. 1.21194097397511\n153. 1.23256026117785\n154. 1.24126858906963\n155. 1.24126858906963\n156. 1.26976054486394\n157. 1.28370777234479\n158. 1.28923264827676\n159. 1.29198368164865\n160. 1.30562645805244\n161. 1.32175583998232\n162. 1.3609765531356\n163. 1.37118072330984\n164. 1.37371557891303\n165. 1.38879124131848\n166. 1.42069578783722\n167. 1.45628673293993\n168. 1.50629715351459\n169. 1.51072193949494\n170. 1.51512723296286\n171. 1.51951320490611\n172. 1.54543258245819\n173. 1.55603713570699\n174. 1.62334081760309\n175. 1.70474809223843\n176. 1.87640694328834\n177. 1.88858365386359\n178. 1.90061387414014\n179. 1.92861865194525\n180. 1.97823903617067\n181. 1.99197551589856\n182. 2.006870848845\n183. 2.12584791449399\n184. 2.17815501461587\n185. 2.19277022698684\n186. 2.20165917440409\n187. 2.2181159363676\n188. 2.23001440015921\n189. 2.24070968927596\n190. 2.32630161961136\n191. 2.33311429802887\n192. 2.36837283353205\n193. 2.37117788445966\n194. 2.43449016387398\n195. 2.48573963609189\n196. 2.48657192910706\n197. 2.55955019278377\n198. 2.56955412384829\n199. 2.58324255050886\n200. 2.58926666511224\n201. ⋯\n202. 1.75440368268429\n203. 0.693147180559945\n204. 1.85785927093258\n205. 3.59346926930928\n206. 2.22028985026722\n207. 1.10194007876078\n208. 1.43031124653666\n209. 1.85941811770187\n210. 0.693147180559945\n211. 0.693147180559945\n212. 0.693147180559945\n213. 0.693147180559945\n214. 1.67335123817775\n215. 2.14943391349987\n216. 2.87016905057865\n217. 2.58173083442354\n218. 1.41827740697294\n219. 0.693147180559945\n220. 0.693147180559945\n221. 0.693147180559945\n222. 4.06113242801599\n223. 2.24918431626693\n224. 1.24415459395877\n225. 1.78002421300963\n226. 0.693147180559945\n227. 0.693147180559945\n228. 1.43031124653666\n229. 2.09186406167839\n230. 2.05796251000271\n231. 3.40751074371875\n232. 0.693147180559945\n233. 0.693147180559945\n234. 1.29198368164865\n235. 1.74221902366792\n236. 2.23108909128898\n237. 1.39376637595859\n238. 1.31372366828506\n239. 2.07568449280212\n240. 2.71204222237175\n241. 1.18172719537862\n242. 0.693147180559945\n243. 0.693147180559945\n244. 2.31451366385932\n245. 1.12817109090965\n246. 1.78170913337455\n247. 0.924258901523332\n248. 1.5953389880546\n249. 2.03470564783844\n250. 3.09240516081425\n251. 1.32175583998232\n252. 0.693147180559945\n253. 2.68375750853317\n254. 0.693147180559945\n255. 2.56955412384829\n256. 0.693147180559945\n257. 0.693147180559945\n258. 0.693147180559945\n259. 3.01062088604774\n260. 3.7220724214697\n261. 0.693147180559945\n262. 5.17405714916735\n263. 0.693147180559945\n264. 0.693147180559945\n265. 2.27521389619791\n266. 2.90853906185161\n267. 2.06178660644112\n268. 3.80376941998789\n269. 2.65183252110398\n270. 2.89037175789616\n271. 3.28053520525493\n272. 0.693147180559945\n273. 3.42556473811045\n274. 0.693147180559945\n275. 2.48156774852249\n276. 3.47134514156424\n277. 4.28716635364992\n278. 0.693147180559945\n279. 0.693147180559945\n280. 3.98490165084072\n281. 1.72988406550997\n282. 1.7281094421516\n283. 0.693147180559945\n284. 0.693147180559945\n285. 2.31845844215034\n286. 1.9387416595767\n287. 0.693147180559945\n288. 0.693147180559945\n289. 2.08442908319087\n290. 0.693147180559945\n291. 1.78339121955754\n292. 0.693147180559945\n293. 2.28238238567653\n294. 0.693147180559945\n295. 0.693147180559945\n296. 1.89009536994892\n297. 1.28923264827676\n298. 0.693147180559945\n299. 0.693147180559945\n300. 6.6177772394807\n301. 2.19944433407453\n302. 0.693147180559945\n303. 1.49065437644413\n304. 1.61938824328727\n305. 5.23516455154277\n306. 0.693147180559945\n307. 2.11625551480255\n308. 1.00063188030791\n309. 1.94017947434633\n310. 0.693147180559945\n311. 0.693147180559945\n312. 1.47017584510059\n313. 0.693147180559945\n314. 1.64865862558738\n315. 0.693147180559945\n316. 2.12345842709661\n317. 0.693147180559945\n318. 2.8530159713524\n319. 0.693147180559945\n320. 0.693147180559945\n321. 0.932164081030445\n322. 0.693147180559945\n323. 2.13179677201376\n324. 0.845868267577609\n325. 0.693147180559945\n326. 1.17248213723457\n327. 1.67709656090792\n328. 0.693147180559945\n329. 2.48156774852249\n330. 0.693147180559945\n331. 0.693147180559945\n332. 0.693147180559945\n333. 0.693147180559945\n334. 0.693147180559945\n335. 2.13179677201376\n336. 2.46044317760963\n337. 0.693147180559945\n338. 0.693147180559945\n339. 0.693147180559945\n340. 0.693147180559945\n341. 0.693147180559945\n342. 4.43970574626056\n343. 1.67147330335355\n344. 1.37118072330984\n345. 0.693147180559945\n346. 0.693147180559945\n347. 1.74221902366792\n348. 2.00012773496011\n349. 1.42069578783722\n350. 2.17928687664955\n351. 1.64480505627139\n352. 2.02154756326093\n353. 2.15292431843964\n354. 4.14519609237953\n355. 0.693147180559945\n356. 3.70080802497921\n357. 1.37118072330984\n358. 4.28110071608392\n359. 2.49155119250667\n360. 1.6467336971778\n361. 1.3244189574018\n362. 2.2364452904895\n363. 1.43746264769429\n364. 5.63668067111546\n365. 1.55814461804655\n366. 0.693147180559945\n367. 1.19088756477728\n368. 0.693147180559945\n369. 3.34744492566291\n370. 1.4036429994545\n371. 1.38629436111989\n372. 2.91235066461494\n373. 3.88567903008854\n374. 0.693147180559945\n375. 0.693147180559945\n376. 0.693147180559945\n377. 0.693147180559945\n378. 3.81374843615981\n379. 2.35991015961332\n380. 0.693147180559945\n381. 1.56234630490025\n382. 2.8142103969306\n383. 3.75044480977209\n384. 2.55100645149252\n385. 0.693147180559945\n386. 0.693147180559945\n387. 0.693147180559945\n388. 1.37371557891303\n389. 3.94332785525656\n390. 2.05412373369555\n391. 0.693147180559945\n392. 0.693147180559945\n393. 0.693147180559945\n394. 1.42791603581071\n395. 0.887891257352457\n396. 0.693147180559945\n397. 2.13298230860787\n398. 4.03051689947594\n399. 2.57718192589717\n400. 0.693147180559945\n401. 0.693147180559945\n\n\n",
            "text/html": [
              "<style>\n",
              ".list-inline {list-style: none; margin:0; padding: 0}\n",
              ".list-inline>li {display: inline-block}\n",
              ".list-inline>li:not(:last-child)::after {content: \"\\00b7\"; padding: 0 .5ex}\n",
              "</style>\n",
              "<ol class=list-inline><li>0.693147180559945</li><li>0.693147180559945</li><li>0.693147180559945</li><li>0.693147180559945</li><li>0.693147180559945</li><li>0.693147180559945</li><li>0.693147180559945</li><li>0.693147180559945</li><li>0.693147180559945</li><li>0.693147180559945</li><li>0.693147180559945</li><li>0.693147180559945</li><li>0.693147180559945</li><li>0.693147180559945</li><li>0.693147180559945</li><li>0.693147180559945</li><li>0.693147180559945</li><li>0.693147180559945</li><li>0.693147180559945</li><li>0.693147180559945</li><li>0.693147180559945</li><li>0.693147180559945</li><li>0.693147180559945</li><li>0.693147180559945</li><li>0.693147180559945</li><li>0.693147180559945</li><li>0.693147180559945</li><li>0.693147180559945</li><li>0.693147180559945</li><li>0.693147180559945</li><li>0.693147180559945</li><li>0.693147180559945</li><li>0.693147180559945</li><li>0.693147180559945</li><li>0.693147180559945</li><li>0.693147180559945</li><li>0.693147180559945</li><li>0.693147180559945</li><li>0.693147180559945</li><li>0.693147180559945</li><li>0.693147180559945</li><li>0.693147180559945</li><li>0.693147180559945</li><li>0.693147180559945</li><li>0.693147180559945</li><li>0.693147180559945</li><li>0.693147180559945</li><li>0.693147180559945</li><li>0.693147180559945</li><li>0.693147180559945</li><li>0.693147180559945</li><li>0.693147180559945</li><li>0.693147180559945</li><li>0.693147180559945</li><li>0.693147180559945</li><li>0.693147180559945</li><li>0.693147180559945</li><li>0.693147180559945</li><li>0.693147180559945</li><li>0.693147180559945</li><li>0.693147180559945</li><li>0.693147180559945</li><li>0.693147180559945</li><li>0.693147180559945</li><li>0.693147180559945</li><li>0.693147180559945</li><li>0.693147180559945</li><li>0.693147180559945</li><li>0.693147180559945</li><li>0.693147180559945</li><li>0.693147180559945</li><li>0.693147180559945</li><li>0.693147180559945</li><li>0.693147180559945</li><li>0.693147180559945</li><li>0.693147180559945</li><li>0.693147180559945</li><li>0.693147180559945</li><li>0.693147180559945</li><li>0.693147180559945</li><li>0.693147180559945</li><li>0.693147180559945</li><li>0.693147180559945</li><li>0.693147180559945</li><li>0.693147180559945</li><li>0.693147180559945</li><li>0.693147180559945</li><li>0.693147180559945</li><li>0.693147180559945</li><li>0.693147180559945</li><li>0.693147180559945</li><li>0.693147180559945</li><li>0.693147180559945</li><li>0.693147180559945</li><li>0.693147180559945</li><li>0.693147180559945</li><li>0.693147180559945</li><li>0.693147180559945</li><li>0.693147180559945</li><li>0.693147180559945</li><li>0.693147180559945</li><li>0.693147180559945</li><li>0.693147180559945</li><li>0.693147180559945</li><li>0.693147180559945</li><li>0.693147180559945</li><li>0.693147180559945</li><li>0.693147180559945</li><li>0.693147180559945</li><li>0.693147180559945</li><li>0.693147180559945</li><li>0.693147180559945</li><li>0.693147180559945</li><li>0.693147180559945</li><li>0.693147180559945</li><li>0.693147180559945</li><li>0.693147180559945</li><li>0.693147180559945</li><li>0.693147180559945</li><li>0.693147180559945</li><li>0.693147180559945</li><li>0.693147180559945</li><li>0.693147180559945</li><li>0.693147180559945</li><li>0.693147180559945</li><li>0.693147180559945</li><li>0.693147180559945</li><li>0.693147180559945</li><li>0.693147180559945</li><li>0.693147180559945</li><li>0.693147180559945</li><li>0.693147180559945</li><li>0.693147180559945</li><li>0.693147180559945</li><li>0.693147180559945</li><li>0.693147180559945</li><li>0.693147180559945</li><li>0.693147180559945</li><li>0.858661619037519</li><li>0.887891257352457</li><li>0.904218150639886</li><li>0.936093359170335</li><li>0.959350221334602</li><li>0.99694863489161</li><li>1.01884732019925</li><li>1.06471073699243</li><li>1.08180517035173</li><li>1.08518926833597</li><li>1.12167756159911</li><li>1.13783300182139</li><li>1.16002091679675</li><li>1.21194097397511</li><li>1.23256026117785</li><li>1.24126858906963</li><li>1.24126858906963</li><li>1.26976054486394</li><li>1.28370777234479</li><li>1.28923264827676</li><li>1.29198368164865</li><li>1.30562645805244</li><li>1.32175583998232</li><li>1.3609765531356</li><li>1.37118072330984</li><li>1.37371557891303</li><li>1.38879124131848</li><li>1.42069578783722</li><li>1.45628673293993</li><li>1.50629715351459</li><li>1.51072193949494</li><li>1.51512723296286</li><li>1.51951320490611</li><li>1.54543258245819</li><li>1.55603713570699</li><li>1.62334081760309</li><li>1.70474809223843</li><li>1.87640694328834</li><li>1.88858365386359</li><li>1.90061387414014</li><li>1.92861865194525</li><li>1.97823903617067</li><li>1.99197551589856</li><li>2.006870848845</li><li>2.12584791449399</li><li>2.17815501461587</li><li>2.19277022698684</li><li>2.20165917440409</li><li>2.2181159363676</li><li>2.23001440015921</li><li>2.24070968927596</li><li>2.32630161961136</li><li>2.33311429802887</li><li>2.36837283353205</li><li>2.37117788445966</li><li>2.43449016387398</li><li>2.48573963609189</li><li>2.48657192910706</li><li>2.55955019278377</li><li>2.56955412384829</li><li>2.58324255050886</li><li>2.58926666511224</li><li>⋯</li><li>1.75440368268429</li><li>0.693147180559945</li><li>1.85785927093258</li><li>3.59346926930928</li><li>2.22028985026722</li><li>1.10194007876078</li><li>1.43031124653666</li><li>1.85941811770187</li><li>0.693147180559945</li><li>0.693147180559945</li><li>0.693147180559945</li><li>0.693147180559945</li><li>1.67335123817775</li><li>2.14943391349987</li><li>2.87016905057865</li><li>2.58173083442354</li><li>1.41827740697294</li><li>0.693147180559945</li><li>0.693147180559945</li><li>0.693147180559945</li><li>4.06113242801599</li><li>2.24918431626693</li><li>1.24415459395877</li><li>1.78002421300963</li><li>0.693147180559945</li><li>0.693147180559945</li><li>1.43031124653666</li><li>2.09186406167839</li><li>2.05796251000271</li><li>3.40751074371875</li><li>0.693147180559945</li><li>0.693147180559945</li><li>1.29198368164865</li><li>1.74221902366792</li><li>2.23108909128898</li><li>1.39376637595859</li><li>1.31372366828506</li><li>2.07568449280212</li><li>2.71204222237175</li><li>1.18172719537862</li><li>0.693147180559945</li><li>0.693147180559945</li><li>2.31451366385932</li><li>1.12817109090965</li><li>1.78170913337455</li><li>0.924258901523332</li><li>1.5953389880546</li><li>2.03470564783844</li><li>3.09240516081425</li><li>1.32175583998232</li><li>0.693147180559945</li><li>2.68375750853317</li><li>0.693147180559945</li><li>2.56955412384829</li><li>0.693147180559945</li><li>0.693147180559945</li><li>0.693147180559945</li><li>3.01062088604774</li><li>3.7220724214697</li><li>0.693147180559945</li><li>5.17405714916735</li><li>0.693147180559945</li><li>0.693147180559945</li><li>2.27521389619791</li><li>2.90853906185161</li><li>2.06178660644112</li><li>3.80376941998789</li><li>2.65183252110398</li><li>2.89037175789616</li><li>3.28053520525493</li><li>0.693147180559945</li><li>3.42556473811045</li><li>0.693147180559945</li><li>2.48156774852249</li><li>3.47134514156424</li><li>4.28716635364992</li><li>0.693147180559945</li><li>0.693147180559945</li><li>3.98490165084072</li><li>1.72988406550997</li><li>1.7281094421516</li><li>0.693147180559945</li><li>0.693147180559945</li><li>2.31845844215034</li><li>1.9387416595767</li><li>0.693147180559945</li><li>0.693147180559945</li><li>2.08442908319087</li><li>0.693147180559945</li><li>1.78339121955754</li><li>0.693147180559945</li><li>2.28238238567653</li><li>0.693147180559945</li><li>0.693147180559945</li><li>1.89009536994892</li><li>1.28923264827676</li><li>0.693147180559945</li><li>0.693147180559945</li><li>6.6177772394807</li><li>2.19944433407453</li><li>0.693147180559945</li><li>1.49065437644413</li><li>1.61938824328727</li><li>5.23516455154277</li><li>0.693147180559945</li><li>2.11625551480255</li><li>1.00063188030791</li><li>1.94017947434633</li><li>0.693147180559945</li><li>0.693147180559945</li><li>1.47017584510059</li><li>0.693147180559945</li><li>1.64865862558738</li><li>0.693147180559945</li><li>2.12345842709661</li><li>0.693147180559945</li><li>2.8530159713524</li><li>0.693147180559945</li><li>0.693147180559945</li><li>0.932164081030445</li><li>0.693147180559945</li><li>2.13179677201376</li><li>0.845868267577609</li><li>0.693147180559945</li><li>1.17248213723457</li><li>1.67709656090792</li><li>0.693147180559945</li><li>2.48156774852249</li><li>0.693147180559945</li><li>0.693147180559945</li><li>0.693147180559945</li><li>0.693147180559945</li><li>0.693147180559945</li><li>2.13179677201376</li><li>2.46044317760963</li><li>0.693147180559945</li><li>0.693147180559945</li><li>0.693147180559945</li><li>0.693147180559945</li><li>0.693147180559945</li><li>4.43970574626056</li><li>1.67147330335355</li><li>1.37118072330984</li><li>0.693147180559945</li><li>0.693147180559945</li><li>1.74221902366792</li><li>2.00012773496011</li><li>1.42069578783722</li><li>2.17928687664955</li><li>1.64480505627139</li><li>2.02154756326093</li><li>2.15292431843964</li><li>4.14519609237953</li><li>0.693147180559945</li><li>3.70080802497921</li><li>1.37118072330984</li><li>4.28110071608392</li><li>2.49155119250667</li><li>1.6467336971778</li><li>1.3244189574018</li><li>2.2364452904895</li><li>1.43746264769429</li><li>5.63668067111546</li><li>1.55814461804655</li><li>0.693147180559945</li><li>1.19088756477728</li><li>0.693147180559945</li><li>3.34744492566291</li><li>1.4036429994545</li><li>1.38629436111989</li><li>2.91235066461494</li><li>3.88567903008854</li><li>0.693147180559945</li><li>0.693147180559945</li><li>0.693147180559945</li><li>0.693147180559945</li><li>3.81374843615981</li><li>2.35991015961332</li><li>0.693147180559945</li><li>1.56234630490025</li><li>2.8142103969306</li><li>3.75044480977209</li><li>2.55100645149252</li><li>0.693147180559945</li><li>0.693147180559945</li><li>0.693147180559945</li><li>1.37371557891303</li><li>3.94332785525656</li><li>2.05412373369555</li><li>0.693147180559945</li><li>0.693147180559945</li><li>0.693147180559945</li><li>1.42791603581071</li><li>0.887891257352457</li><li>0.693147180559945</li><li>2.13298230860787</li><li>4.03051689947594</li><li>2.57718192589717</li><li>0.693147180559945</li><li>0.693147180559945</li></ol>\n"
            ]
          },
          "metadata": {}
        }
      ]
    },
    {
      "cell_type": "code",
      "source": [
        "#@markdown 👈 Run this cell to plot the difference between the vector values before and after the logarithm transformation.\n",
        "\n",
        "#@markdown By transforming area values we can see on the right plot the dots more spread in the graph.\n",
        "\n",
        "par(mfrow = c(1, 2))\n",
        "plot(df$area, pch=16, col=\"red\", main=\"No Logarithm Transformation\\napplyed\", ylab=\"Area in ha\")\n",
        "plot(logTranf, pch=16, col=\"red\", main=\"Variable Shifted by 2\", ylab=\"Area with logarithm transformation\")"
      ],
      "metadata": {
        "colab": {
          "base_uri": "https://localhost:8080/",
          "height": 437
        },
        "cellView": "form",
        "id": "WFzuiGB8qZdj",
        "outputId": "e5392f16-429d-42de-93ca-6a3bc505ddfb"
      },
      "execution_count": 24,
      "outputs": [
        {
          "output_type": "display_data",
          "data": {
            "image/png": "[encoded data removed]",
            "text/plain": [
              "Plot with title “Variable Shifted by 2”"
            ]
          },
          "metadata": {
            "image/png": {
              "width": 420,
              "height": 420
            }
          }
        }
      ]
    },
    {
      "cell_type": "markdown",
      "source": [
        "### Choose a relevant encoding technique to transform the categorical data to numeric format."
      ],
      "metadata": {
        "id": "g2gn5Gvqj2pk"
      }
    },
    {
      "cell_type": "code",
      "source": [
        "#@markdown 👈 Please, run this cell to retrive all the categorical data and save it in a object called categorical. See below grouped the categorical data.\n",
        "\n",
        "categorical <- df[lapply(colnames(df), function(x) class(df[[x]]) == 'character') == TRUE]\n",
        "head(categorical)"
      ],
      "metadata": {
        "colab": {
          "base_uri": "https://localhost:8080/",
          "height": 286
        },
        "cellView": "form",
        "id": "Yfy91WwNsVJO",
        "outputId": "336c5264-58f5-42be-8dfe-afe5ea7e57a7"
      },
      "execution_count": 15,
      "outputs": [
        {
          "output_type": "display_data",
          "data": {
            "text/plain": [
              "  month day\n",
              "1 mar   fri\n",
              "2 oct   tue\n",
              "3 oct   sat\n",
              "4 mar   fri\n",
              "5 mar   sun\n",
              "6 aug   sun"
            ],
            "text/latex": "A data.frame: 6 × 2\n\\begin{tabular}{r|ll}\n  & month & day\\\\\n  & <chr> & <chr>\\\\\n\\hline\n\t1 & mar & fri\\\\\n\t2 & oct & tue\\\\\n\t3 & oct & sat\\\\\n\t4 & mar & fri\\\\\n\t5 & mar & sun\\\\\n\t6 & aug & sun\\\\\n\\end{tabular}\n",
            "text/markdown": "\nA data.frame: 6 × 2\n\n| <!--/--> | month &lt;chr&gt; | day &lt;chr&gt; |\n|---|---|---|\n| 1 | mar | fri |\n| 2 | oct | tue |\n| 3 | oct | sat |\n| 4 | mar | fri |\n| 5 | mar | sun |\n| 6 | aug | sun |\n\n",
            "text/html": [
              "<table class=\"dataframe\">\n",
              "<caption>A data.frame: 6 × 2</caption>\n",
              "<thead>\n",
              "\t<tr><th></th><th scope=col>month</th><th scope=col>day</th></tr>\n",
              "\t<tr><th></th><th scope=col>&lt;chr&gt;</th><th scope=col>&lt;chr&gt;</th></tr>\n",
              "</thead>\n",
              "<tbody>\n",
              "\t<tr><th scope=row>1</th><td>mar</td><td>fri</td></tr>\n",
              "\t<tr><th scope=row>2</th><td>oct</td><td>tue</td></tr>\n",
              "\t<tr><th scope=row>3</th><td>oct</td><td>sat</td></tr>\n",
              "\t<tr><th scope=row>4</th><td>mar</td><td>fri</td></tr>\n",
              "\t<tr><th scope=row>5</th><td>mar</td><td>sun</td></tr>\n",
              "\t<tr><th scope=row>6</th><td>aug</td><td>sun</td></tr>\n",
              "</tbody>\n",
              "</table>\n"
            ]
          },
          "metadata": {}
        }
      ]
    },
    {
      "cell_type": "markdown",
      "source": [
        "### Formulate the questions for EDA (Exploratory Data Analysis) and perform EDA based on the data provided and address the issues to understand the impact of fire and the resulting burned area."
      ],
      "metadata": {
        "id": "blmAwpDIj5Rc"
      }
    },
    {
      "cell_type": "markdown",
      "source": [
        "https://towardsdatascience.com/exploratory-data-analysis-8fc1cb20fd15"
      ],
      "metadata": {
        "id": "duaqlnw8yr5x"
      }
    },
    {
      "cell_type": "code",
      "source": [
        "head(df)"
      ],
      "metadata": {
        "colab": {
          "base_uri": "https://localhost:8080/",
          "height": 286
        },
        "id": "nqfCUC0uxkzl",
        "outputId": "7d1dc8df-4aef-4d74-8148-ac29409d8ad8"
      },
      "execution_count": 16,
      "outputs": [
        {
          "output_type": "display_data",
          "data": {
            "text/plain": [
              "  X Y month day FFMC DMC  DC    ISI  temp RH wind rain area\n",
              "1 7 5 mar   fri 86.2 26.2  94.3  5.1  8.2 51 6.7  0.0  0   \n",
              "2 7 4 oct   tue 90.6 35.4 669.1  6.7 18.0 33 0.9  0.0  0   \n",
              "3 7 4 oct   sat 90.6 43.7 686.9  6.7 14.6 33 1.3  0.0  0   \n",
              "4 8 6 mar   fri 91.7 33.3  77.5  9.0  8.3 97 4.0  0.2  0   \n",
              "5 8 6 mar   sun 89.3 51.3 102.2  9.6 11.4 99 1.8  0.0  0   \n",
              "6 8 6 aug   sun 92.3 85.3 488.0 14.7 22.2 29 5.4  0.0  0   "
            ],
            "text/latex": "A data.frame: 6 × 13\n\\begin{tabular}{r|lllllllllllll}\n  & X & Y & month & day & FFMC & DMC & DC & ISI & temp & RH & wind & rain & area\\\\\n  & <int> & <int> & <chr> & <chr> & <dbl> & <dbl> & <dbl> & <dbl> & <dbl> & <int> & <dbl> & <dbl> & <dbl>\\\\\n\\hline\n\t1 & 7 & 5 & mar & fri & 86.2 & 26.2 &  94.3 &  5.1 &  8.2 & 51 & 6.7 & 0.0 & 0\\\\\n\t2 & 7 & 4 & oct & tue & 90.6 & 35.4 & 669.1 &  6.7 & 18.0 & 33 & 0.9 & 0.0 & 0\\\\\n\t3 & 7 & 4 & oct & sat & 90.6 & 43.7 & 686.9 &  6.7 & 14.6 & 33 & 1.3 & 0.0 & 0\\\\\n\t4 & 8 & 6 & mar & fri & 91.7 & 33.3 &  77.5 &  9.0 &  8.3 & 97 & 4.0 & 0.2 & 0\\\\\n\t5 & 8 & 6 & mar & sun & 89.3 & 51.3 & 102.2 &  9.6 & 11.4 & 99 & 1.8 & 0.0 & 0\\\\\n\t6 & 8 & 6 & aug & sun & 92.3 & 85.3 & 488.0 & 14.7 & 22.2 & 29 & 5.4 & 0.0 & 0\\\\\n\\end{tabular}\n",
            "text/markdown": "\nA data.frame: 6 × 13\n\n| <!--/--> | X &lt;int&gt; | Y &lt;int&gt; | month &lt;chr&gt; | day &lt;chr&gt; | FFMC &lt;dbl&gt; | DMC &lt;dbl&gt; | DC &lt;dbl&gt; | ISI &lt;dbl&gt; | temp &lt;dbl&gt; | RH &lt;int&gt; | wind &lt;dbl&gt; | rain &lt;dbl&gt; | area &lt;dbl&gt; |\n|---|---|---|---|---|---|---|---|---|---|---|---|---|---|\n| 1 | 7 | 5 | mar | fri | 86.2 | 26.2 |  94.3 |  5.1 |  8.2 | 51 | 6.7 | 0.0 | 0 |\n| 2 | 7 | 4 | oct | tue | 90.6 | 35.4 | 669.1 |  6.7 | 18.0 | 33 | 0.9 | 0.0 | 0 |\n| 3 | 7 | 4 | oct | sat | 90.6 | 43.7 | 686.9 |  6.7 | 14.6 | 33 | 1.3 | 0.0 | 0 |\n| 4 | 8 | 6 | mar | fri | 91.7 | 33.3 |  77.5 |  9.0 |  8.3 | 97 | 4.0 | 0.2 | 0 |\n| 5 | 8 | 6 | mar | sun | 89.3 | 51.3 | 102.2 |  9.6 | 11.4 | 99 | 1.8 | 0.0 | 0 |\n| 6 | 8 | 6 | aug | sun | 92.3 | 85.3 | 488.0 | 14.7 | 22.2 | 29 | 5.4 | 0.0 | 0 |\n\n",
            "text/html": [
              "<table class=\"dataframe\">\n",
              "<caption>A data.frame: 6 × 13</caption>\n",
              "<thead>\n",
              "\t<tr><th></th><th scope=col>X</th><th scope=col>Y</th><th scope=col>month</th><th scope=col>day</th><th scope=col>FFMC</th><th scope=col>DMC</th><th scope=col>DC</th><th scope=col>ISI</th><th scope=col>temp</th><th scope=col>RH</th><th scope=col>wind</th><th scope=col>rain</th><th scope=col>area</th></tr>\n",
              "\t<tr><th></th><th scope=col>&lt;int&gt;</th><th scope=col>&lt;int&gt;</th><th scope=col>&lt;chr&gt;</th><th scope=col>&lt;chr&gt;</th><th scope=col>&lt;dbl&gt;</th><th scope=col>&lt;dbl&gt;</th><th scope=col>&lt;dbl&gt;</th><th scope=col>&lt;dbl&gt;</th><th scope=col>&lt;dbl&gt;</th><th scope=col>&lt;int&gt;</th><th scope=col>&lt;dbl&gt;</th><th scope=col>&lt;dbl&gt;</th><th scope=col>&lt;dbl&gt;</th></tr>\n",
              "</thead>\n",
              "<tbody>\n",
              "\t<tr><th scope=row>1</th><td>7</td><td>5</td><td>mar</td><td>fri</td><td>86.2</td><td>26.2</td><td> 94.3</td><td> 5.1</td><td> 8.2</td><td>51</td><td>6.7</td><td>0.0</td><td>0</td></tr>\n",
              "\t<tr><th scope=row>2</th><td>7</td><td>4</td><td>oct</td><td>tue</td><td>90.6</td><td>35.4</td><td>669.1</td><td> 6.7</td><td>18.0</td><td>33</td><td>0.9</td><td>0.0</td><td>0</td></tr>\n",
              "\t<tr><th scope=row>3</th><td>7</td><td>4</td><td>oct</td><td>sat</td><td>90.6</td><td>43.7</td><td>686.9</td><td> 6.7</td><td>14.6</td><td>33</td><td>1.3</td><td>0.0</td><td>0</td></tr>\n",
              "\t<tr><th scope=row>4</th><td>8</td><td>6</td><td>mar</td><td>fri</td><td>91.7</td><td>33.3</td><td> 77.5</td><td> 9.0</td><td> 8.3</td><td>97</td><td>4.0</td><td>0.2</td><td>0</td></tr>\n",
              "\t<tr><th scope=row>5</th><td>8</td><td>6</td><td>mar</td><td>sun</td><td>89.3</td><td>51.3</td><td>102.2</td><td> 9.6</td><td>11.4</td><td>99</td><td>1.8</td><td>0.0</td><td>0</td></tr>\n",
              "\t<tr><th scope=row>6</th><td>8</td><td>6</td><td>aug</td><td>sun</td><td>92.3</td><td>85.3</td><td>488.0</td><td>14.7</td><td>22.2</td><td>29</td><td>5.4</td><td>0.0</td><td>0</td></tr>\n",
              "</tbody>\n",
              "</table>\n"
            ]
          },
          "metadata": {}
        }
      ]
    },
    {
      "cell_type": "code",
      "source": [
        "dim(df)"
      ],
      "metadata": {
        "colab": {
          "base_uri": "https://localhost:8080/",
          "height": 34
        },
        "id": "8v5tHlxUx3iF",
        "outputId": "5afc12b9-a34f-40c8-85b0-2e66802bbaaf"
      },
      "execution_count": 18,
      "outputs": [
        {
          "output_type": "display_data",
          "data": {
            "text/plain": [
              "[1] 517  13"
            ],
            "text/latex": "\\begin{enumerate*}\n\\item 517\n\\item 13\n\\end{enumerate*}\n",
            "text/markdown": "1. 517\n2. 13\n\n\n",
            "text/html": [
              "<style>\n",
              ".list-inline {list-style: none; margin:0; padding: 0}\n",
              ".list-inline>li {display: inline-block}\n",
              ".list-inline>li:not(:last-child)::after {content: \"\\00b7\"; padding: 0 .5ex}\n",
              "</style>\n",
              "<ol class=list-inline><li>517</li><li>13</li></ol>\n"
            ]
          },
          "metadata": {}
        }
      ]
    },
    {
      "cell_type": "code",
      "source": [
        "summary(df)"
      ],
      "metadata": {
        "colab": {
          "base_uri": "https://localhost:8080/",
          "height": 503
        },
        "id": "AS70QSOiyQMT",
        "outputId": "c397c001-1f57-44bf-b3cc-805c09c52aaf"
      },
      "execution_count": 19,
      "outputs": [
        {
          "output_type": "display_data",
          "data": {
            "text/plain": [
              "       X               Y          month               day           \n",
              " Min.   :1.000   Min.   :2.0   Length:517         Length:517        \n",
              " 1st Qu.:3.000   1st Qu.:4.0   Class :character   Class :character  \n",
              " Median :4.000   Median :4.0   Mode  :character   Mode  :character  \n",
              " Mean   :4.669   Mean   :4.3                                        \n",
              " 3rd Qu.:7.000   3rd Qu.:5.0                                        \n",
              " Max.   :9.000   Max.   :9.0                                        \n",
              "      FFMC            DMC              DC             ISI        \n",
              " Min.   :18.70   Min.   :  1.1   Min.   :  7.9   Min.   : 0.000  \n",
              " 1st Qu.:90.20   1st Qu.: 68.6   1st Qu.:437.7   1st Qu.: 6.500  \n",
              " Median :91.60   Median :108.3   Median :664.2   Median : 8.400  \n",
              " Mean   :90.64   Mean   :110.9   Mean   :547.9   Mean   : 9.022  \n",
              " 3rd Qu.:92.90   3rd Qu.:142.4   3rd Qu.:713.9   3rd Qu.:10.800  \n",
              " Max.   :96.20   Max.   :291.3   Max.   :860.6   Max.   :56.100  \n",
              "      temp             RH              wind            rain        \n",
              " Min.   : 2.20   Min.   : 15.00   Min.   :0.400   Min.   :0.00000  \n",
              " 1st Qu.:15.50   1st Qu.: 33.00   1st Qu.:2.700   1st Qu.:0.00000  \n",
              " Median :19.30   Median : 42.00   Median :4.000   Median :0.00000  \n",
              " Mean   :18.89   Mean   : 44.29   Mean   :4.018   Mean   :0.02166  \n",
              " 3rd Qu.:22.80   3rd Qu.: 53.00   3rd Qu.:4.900   3rd Qu.:0.00000  \n",
              " Max.   :33.30   Max.   :100.00   Max.   :9.400   Max.   :6.40000  \n",
              "      area        \n",
              " Min.   :   0.00  \n",
              " 1st Qu.:   0.00  \n",
              " Median :   0.52  \n",
              " Mean   :  12.85  \n",
              " 3rd Qu.:   6.57  \n",
              " Max.   :1090.84  "
            ]
          },
          "metadata": {}
        }
      ]
    },
    {
      "cell_type": "markdown",
      "source": [
        "### Explain the purpose of PCA (Principal Component Analysis) and how It is effective to reduce dimensionality of the dataset. Find two components of the above data set."
      ],
      "metadata": {
        "id": "xbhuLnWMj7jU"
      }
    },
    {
      "cell_type": "markdown",
      "source": [
        "### Analyse the benefits and drawbacks for feature selection and extraction techniques. Which features are important from the provided dataset? (Feature Selection Method)"
      ],
      "metadata": {
        "id": "k7OggkYZj9oc"
      }
    },
    {
      "cell_type": "markdown",
      "source": [
        "### Prepare the data for the machine learning model after encoding and feature selection, predict the burned area of forest fires using the machine learning model."
      ],
      "metadata": {
        "id": "B7Ag_t-VkAWc"
      }
    },
    {
      "cell_type": "markdown",
      "source": [
        "### You are free to perform any process to enhance an understanding of data preparation and exploration of the Forest data set."
      ],
      "metadata": {
        "id": "b4dJjjsHkCHE"
      }
    },
    {
      "cell_type": "markdown",
      "source": [
        "## References"
      ],
      "metadata": {
        "id": "Z74TXdNRBBqC"
      }
    }
  ]
}